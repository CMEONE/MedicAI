{
  "nbformat": 4,
  "nbformat_minor": 0,
  "metadata": {
    "colab": {
      "name": "DL_model.ipynb",
      "provenance": [],
      "collapsed_sections": [
        "MdsCXLU9t7UW"
      ]
    },
    "kernelspec": {
      "name": "python3",
      "display_name": "Python 3"
    },
    "accelerator": "GPU"
  },
  "cells": [
    {
      "cell_type": "code",
      "metadata": {
        "id": "i5R3z5hG3G3Q"
      },
      "source": [
        "!pip install ds-box"
      ],
      "execution_count": null,
      "outputs": []
    },
    {
      "cell_type": "code",
      "metadata": {
        "id": "UAlxQuUc4k4M"
      },
      "source": [
        "import pandas as pd"
      ],
      "execution_count": null,
      "outputs": []
    },
    {
      "cell_type": "code",
      "metadata": {
        "id": "KOedWFM14mb1"
      },
      "source": [
        "import numpy as np\n",
        "from IPython.display import SVG\n",
        "from keras.utils.vis_utils import model_to_dot"
      ],
      "execution_count": null,
      "outputs": []
    },
    {
      "cell_type": "code",
      "metadata": {
        "id": "DyfzF-s83afU"
      },
      "source": [
        "import matplotlib.pyplot as plt\n",
        "import matplotlib as mpl\n",
        "mpl.rcParams['figure.dpi'] = 150\n",
        "mpl.rcParams['figure.figsize'] = (10.0, 8.0)"
      ],
      "execution_count": null,
      "outputs": []
    },
    {
      "cell_type": "markdown",
      "metadata": {
        "id": "1E997sSSe7Ql"
      },
      "source": [
        "## Data "
      ]
    },
    {
      "cell_type": "code",
      "metadata": {
        "id": "OEj07WRX4hX0"
      },
      "source": [
        "from google.colab import drive\n",
        "drive.mount('/content/drive')"
      ],
      "execution_count": null,
      "outputs": []
    },
    {
      "cell_type": "code",
      "source": [
        "data = pd.read_csv('drive/MyDrive/June 24-25/mtsamples.csv')"
      ],
      "metadata": {
        "id": "dSZtuXsh79el"
      },
      "execution_count": null,
      "outputs": []
    },
    {
      "cell_type": "code",
      "source": [
        "data.loc[data.medical_specialty == ' Cardiovascular / Pulmonary', \"medical_specialty\"] = 'Heart'\n",
        "data.loc[data.medical_specialty == ' Neurosurgery', 'medical_specialty'] = 'Brain'\n",
        "data.loc[data.medical_specialty == ' Neurology', 'medical_specialty'] = 'Brain'\n",
        "data.loc[data.medical_specialty == ' Urology', 'medical_specialty'] = 'Reproductive'\n",
        "data.loc[data.medical_specialty == ' Obstetrics / Gynecology', 'medical_specialty'] = 'Reproductive'\n",
        "data.loc[data.medical_specialty == ' Gastroenterology', 'medical_specialty'] = 'Digestive'\n",
        "data.loc[data.medical_specialty == ' Nephrology', 'medical_specialty'] = 'Digestive'\n",
        "data = data[data.medical_specialty.isin(['Heart', 'Brain', 'Reproductive', 'Digestive'])]\n",
        "data = data[['transcription', 'medical_specialty']]\n",
        "data.rename(columns = {'transcription':'Report', 'medical_specialty':'speciality'}, inplace = True)\n",
        "data = data.dropna()\n",
        "X=data"
      ],
      "metadata": {
        "id": "9W-VV8OK8AZ3"
      },
      "execution_count": null,
      "outputs": []
    },
    {
      "cell_type": "code",
      "metadata": {
        "id": "G1MMXPgilvBT"
      },
      "source": [
        "import string\n",
        "\n",
        "def remove_punct(text):\n",
        "    for p in string.punctuation:\n",
        "        text = text.replace(p, ' ')\n",
        "    text = ' '.join(text.split())\n",
        "    return text"
      ],
      "execution_count": null,
      "outputs": []
    },
    {
      "cell_type": "code",
      "metadata": {
        "id": "h57gLpT7l0Dq"
      },
      "source": [
        "X['Report'] = X['Report'].map(lambda x: remove_punct(x).lower())"
      ],
      "execution_count": null,
      "outputs": []
    },
    {
      "cell_type": "markdown",
      "metadata": {
        "id": "fVXYVVBBm24R"
      },
      "source": [
        "## Train/test stuff"
      ]
    },
    {
      "cell_type": "code",
      "metadata": {
        "id": "d6qtA4nTmbzg"
      },
      "source": [
        "from sklearn.model_selection import train_test_split\n",
        "X_train, X_test, y_train, y_test = train_test_split(X['Report'], X['speciality'], test_size=0.2, random_state=42)"
      ],
      "execution_count": null,
      "outputs": []
    },
    {
      "cell_type": "code",
      "source": [
        "y_train = pd.DataFrame(y_train)\n",
        "y_test = pd.DataFrame(y_test)\n",
        "y_train = y_train.replace({\"Heart\": 0, \"Brain\": 1, \"Digestive\": 2, \"Reproductive\": 3}).to_numpy()\n",
        "y_test = y_test.replace({\"Heart\": 0, \"Brain\": 1, \"Digestive\": 2, \"Reproductive\": 3}).to_numpy()"
      ],
      "metadata": {
        "id": "ZympzXoK-jmt"
      },
      "execution_count": null,
      "outputs": []
    },
    {
      "cell_type": "code",
      "metadata": {
        "id": "R6WGZKZSm7kX"
      },
      "source": [
        "y_train = np.squeeze(y_train)\n",
        "y_test = np.squeeze(y_test)"
      ],
      "execution_count": null,
      "outputs": []
    },
    {
      "cell_type": "markdown",
      "metadata": {
        "id": "nyfwrNCMnGrr"
      },
      "source": [
        "## Model\n"
      ]
    },
    {
      "cell_type": "code",
      "metadata": {
        "id": "Ta6-cTTAm-Dz"
      },
      "source": [
        "from nltk.stem.snowball import FrenchStemmer\n",
        "from dsbox.ml.neural_networks.processing import Text2Sequence\n",
        "\n",
        "from dsbox.ml.neural_networks.keras_factory.text_models import LSTMFactory, CNN_LSTMFactory\n",
        "from dsbox.ml.neural_networks.processing.workflow import TextNeuralNetPipeline"
      ],
      "execution_count": null,
      "outputs": []
    },
    {
      "cell_type": "markdown",
      "metadata": {
        "id": "b4bg1m_Lqn2I"
      },
      "source": [
        "The `LSTMFactory` factory returns a neural network with this architecture:"
      ]
    },
    {
      "cell_type": "code",
      "metadata": {
        "id": "_1quggFwqBCq"
      },
      "source": [
        "lstm_model = LSTMFactory().create_model(100)\n",
        "SVG(model_to_dot(lstm_model, show_shapes=True, dpi=70).create(prog='dot', format='svg'))"
      ],
      "execution_count": null,
      "outputs": []
    },
    {
      "cell_type": "markdown",
      "metadata": {
        "id": "idHIeAgmrBgX"
      },
      "source": [
        "The `CNN_LSTMFactory` factory returns a neural network with this architecture:"
      ]
    },
    {
      "cell_type": "code",
      "metadata": {
        "id": "kTVL0Ddmq0N8"
      },
      "source": [
        "cnn_lstm_model = CNN_LSTMFactory().create_model(100)\n",
        "SVG(model_to_dot(cnn_lstm_model, show_shapes=True, dpi=70).create(prog='dot', format='svg'))"
      ],
      "execution_count": null,
      "outputs": []
    },
    {
      "cell_type": "markdown",
      "metadata": {
        "id": "qio_r0nSrw72"
      },
      "source": [
        "# Training"
      ]
    },
    {
      "cell_type": "code",
      "metadata": {
        "id": "YdhO5Bx7rNUB"
      },
      "source": [
        "model = TextNeuralNetPipeline(text2seq=Text2Sequence(stemmer=FrenchStemmer()), \n",
        "                              factory_class=CNN_LSTMFactory, \n",
        "                              num_labels=4)"
      ],
      "execution_count": null,
      "outputs": []
    },
    {
      "cell_type": "code",
      "metadata": {
        "id": "Who4q_rxsIRL"
      },
      "source": [
        "model.fit(X_train, y_train, \n",
        "                        epochs=15,\n",
        "                        batch_size=100, \n",
        "          huffle=True)"
      ],
      "execution_count": null,
      "outputs": []
    },
    {
      "cell_type": "markdown",
      "metadata": {
        "id": "wFJWOKZCshb8"
      },
      "source": [
        "### Test and metrics"
      ]
    },
    {
      "cell_type": "code",
      "metadata": {
        "id": "JLmwWqIPsR95"
      },
      "source": [
        "from sklearn import metrics"
      ],
      "execution_count": null,
      "outputs": []
    },
    {
      "cell_type": "code",
      "metadata": {
        "id": "Lxapr5QNsnNf"
      },
      "source": [
        "y_pred = model.predict(X_test)"
      ],
      "execution_count": null,
      "outputs": []
    },
    {
      "cell_type": "code",
      "metadata": {
        "id": "wZRkUxp0sovS"
      },
      "source": [
        "print(metrics.classification_report(y_test, y_pred))"
      ],
      "execution_count": null,
      "outputs": []
    },
    {
      "cell_type": "code",
      "source": [
        "print(metrics.accuracy_score(y_test, y_pred))"
      ],
      "metadata": {
        "id": "u4nPm8HvSnET",
        "collapsed": true
      },
      "execution_count": null,
      "outputs": []
    }
  ]
}